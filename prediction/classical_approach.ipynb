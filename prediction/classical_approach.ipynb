{
 "cells": [
  {
   "cell_type": "code",
   "execution_count": 1,
   "id": "initial_id",
   "metadata": {
    "collapsed": true,
    "ExecuteTime": {
     "end_time": "2023-09-13T08:05:17.851578Z",
     "start_time": "2023-09-13T08:05:17.342480Z"
    }
   },
   "outputs": [],
   "source": [
    "import pandas as pd\n",
    "import numpy as np\n",
    "import matplotlib.pyplot as plt\n",
    "import seaborn as sns\n",
    "\n",
    "from sklearn.model_selection import train_test_split\n",
    "from sklearn.ensemble import RandomForestRegressor\n",
    "\n",
    "from sklearn.metrics import mean_squared_error, mean_absolute_error\n",
    "from sklearn.metrics import r2_score\n",
    "\n",
    "from sklearn.preprocessing import MinMaxScaler\n",
    "from sklearn.decomposition import PCA"
   ]
  },
  {
   "cell_type": "code",
   "execution_count": 2,
   "outputs": [],
   "source": [
    "df = pd.read_csv('../dataset/concrete_data.csv')"
   ],
   "metadata": {
    "collapsed": false,
    "ExecuteTime": {
     "end_time": "2023-09-13T08:05:38.956208Z",
     "start_time": "2023-09-13T08:05:38.942245Z"
    }
   },
   "id": "379d10c52da733c9"
  },
  {
   "cell_type": "code",
   "execution_count": 3,
   "outputs": [],
   "source": [
    "seed = 1234\n",
    "np.random.seed(seed)"
   ],
   "metadata": {
    "collapsed": false,
    "ExecuteTime": {
     "end_time": "2023-09-13T08:05:42.317717Z",
     "start_time": "2023-09-13T08:05:42.248508Z"
    }
   },
   "id": "a5d9319d40f7a5b6"
  },
  {
   "cell_type": "markdown",
   "source": [
    "## Dataset without features reduction"
   ],
   "metadata": {
    "collapsed": false
   },
   "id": "9b6b23d8c7450f9b"
  },
  {
   "cell_type": "markdown",
   "source": [
    "### With outliers"
   ],
   "metadata": {
    "collapsed": false
   },
   "id": "9f73c61959cc6764"
  },
  {
   "cell_type": "code",
   "execution_count": 4,
   "outputs": [
    {
     "name": "stdout",
     "output_type": "stream",
     "text": [
      "0.018633318309299648\n",
      "0.8856312515340603\n"
     ]
    }
   ],
   "source": [
    "scaler = MinMaxScaler(feature_range=(-1, 1))\n",
    "rescaledX = scaler.fit_transform(df)\n",
    "df_rescaled = pd.DataFrame(rescaledX, columns=df.columns)\n",
    "\n",
    "X = df_rescaled.drop(columns=[\"concrete_compressive_strength\"]).values\n",
    "y = df_rescaled[\"concrete_compressive_strength\"].values\n",
    "\n",
    "X_train, X_valid, y_train, y_valid = train_test_split(X, y, shuffle=True, random_state=42)\n",
    "\n",
    "reg = RandomForestRegressor(100, random_state=42)\n",
    "reg.fit(X_train , y_train)\n",
    "rms = mean_squared_error(y_valid, reg.predict(X_valid), squared=True)\n",
    "print(rms)\n",
    "r2 = r2_score(y_valid, reg.predict(X_valid))\n",
    "adj_r2 = 1-(1-r2)*(len(X_valid) - 1)/(len(X_valid) - X_valid.shape[1] - 1)\n",
    "print(adj_r2)"
   ],
   "metadata": {
    "collapsed": false,
    "ExecuteTime": {
     "end_time": "2023-09-13T08:07:44.319341Z",
     "start_time": "2023-09-13T08:07:43.800144Z"
    }
   },
   "id": "6dc263ea652d739"
  },
  {
   "cell_type": "markdown",
   "source": [
    "### Without outliers"
   ],
   "metadata": {
    "collapsed": false
   },
   "id": "9df8de0fe3ade64a"
  },
  {
   "cell_type": "code",
   "execution_count": 5,
   "outputs": [
    {
     "name": "stdout",
     "output_type": "stream",
     "text": [
      "0.015269465774461023\n",
      "0.9071801646839951\n"
     ]
    }
   ],
   "source": [
    "scaler = MinMaxScaler(feature_range=(-1, 1))\n",
    "rescaledX = scaler.fit_transform(df)\n",
    "df_rescaled = pd.DataFrame(rescaledX, columns=df.columns)\n",
    "\n",
    "# Identify the quartiles\n",
    "q1, q3 = np.percentile(df_rescaled['age'], [25, 75])\n",
    "# Calculate the interquartile range\n",
    "iqr = q3 - q1\n",
    "# Calculate the lower and upper bounds\n",
    "lower_bound = q1 - (1.5 * iqr)\n",
    "upper_bound = q3 + (1.5 * iqr)\n",
    "# Drop the outliers\n",
    "clean_data = df_rescaled[(df_rescaled['age'] >= lower_bound) & (df_rescaled['age'] <= upper_bound)]\n",
    "\n",
    "# Identify the quartile \n",
    "q1, q3 = np.percentile(clean_data['blast_furnace_slag'], [25, 75])\n",
    "# Calculate the interquartile range\n",
    "iqr = q3 - q1\n",
    "# Calculate the lower and upper bounds\n",
    "lower_bound = q1 - (1.5 * iqr)\n",
    "upper_bound = q3 + (1.5 * iqr)\n",
    "# Drop the outliers\n",
    "clean_data = clean_data[(clean_data['blast_furnace_slag'] >= lower_bound) & (clean_data['blast_furnace_slag'] <= upper_bound)]\n",
    "\n",
    "# Identify the quartile  \n",
    "q1, q3 = np.percentile(clean_data['water'], [25, 75])\n",
    "# Calculate the interquartile range\n",
    "iqr = q3 - q1\n",
    "# Calculate the lower and upper bounds\n",
    "lower_bound = q1 - (1.5 * iqr)\n",
    "upper_bound = q3 + (1.5 * iqr)\n",
    "# Drop the outliers\n",
    "clean_data = clean_data[(clean_data['water'] >= lower_bound) & (clean_data['water'] <= upper_bound)]\n",
    "\n",
    "# Identify the quartile  \n",
    "q1, q3 = np.percentile(clean_data['superplasticizer'], [25, 75])\n",
    "# Calculate the interquartile range\n",
    "iqr = q3 - q1\n",
    "# Calculate the lower and upper bounds\n",
    "lower_bound = q1 - (0.75 * iqr)\n",
    "upper_bound = q3 + (0.75 * iqr)\n",
    "# Drop the outliers\n",
    "clean_data = clean_data[(clean_data['superplasticizer'] >= lower_bound) & (clean_data['superplasticizer'] <= upper_bound)]\n",
    "\n",
    "X = clean_data.drop(columns=[\"concrete_compressive_strength\"]).values\n",
    "y = clean_data[\"concrete_compressive_strength\"].values\n",
    "\n",
    "X_train, X_valid, y_train, y_valid = train_test_split(X, y, shuffle=True, random_state=42)\n",
    "\n",
    "reg = RandomForestRegressor(100, random_state=42)\n",
    "reg.fit(X_train , y_train)\n",
    "rms = mean_squared_error(y_valid, reg.predict(X_valid), squared=True)\n",
    "print(rms)\n",
    "r2 = r2_score(y_valid, reg.predict(X_valid))\n",
    "adj_r2 = 1-(1-r2)*(len(X_valid) - 1)/(len(X_valid) - X_valid.shape[1] - 1)\n",
    "print(adj_r2)"
   ],
   "metadata": {
    "collapsed": false,
    "ExecuteTime": {
     "end_time": "2023-09-13T08:09:59.600722Z",
     "start_time": "2023-09-13T08:09:58.994060Z"
    }
   },
   "id": "fb7fd56320a43bea"
  },
  {
   "cell_type": "markdown",
   "source": [
    "## Dataset with features reduction"
   ],
   "metadata": {
    "collapsed": false
   },
   "id": "fe527cfbcb4033fe"
  },
  {
   "cell_type": "markdown",
   "source": [
    "### With outliers"
   ],
   "metadata": {
    "collapsed": false
   },
   "id": "52de69b44c2e5a47"
  },
  {
   "cell_type": "code",
   "execution_count": 6,
   "outputs": [
    {
     "name": "stdout",
     "output_type": "stream",
     "text": [
      "0.01824797554399269\n",
      "0.8884444467700594\n"
     ]
    }
   ],
   "source": [
    "scaler = MinMaxScaler(feature_range=(-1, 1))\n",
    "rescaledX = scaler.fit_transform(df)\n",
    "df_rescaled = pd.DataFrame(rescaledX, columns=df.columns)\n",
    "\n",
    "X = df_rescaled.drop(columns=[\"concrete_compressive_strength\"]).values\n",
    "\n",
    "df_rescaled = df_rescaled.drop(columns=[\"fly_ash\"])\n",
    "\n",
    "X = df_rescaled.drop(columns=[\"concrete_compressive_strength\"]).values\n",
    "y = df_rescaled[\"concrete_compressive_strength\"].values\n",
    "\n",
    "X_train, X_valid, y_train, y_valid = train_test_split(X, y, shuffle=True, random_state=42)\n",
    "reg = RandomForestRegressor(100, random_state=42)\n",
    "reg.fit(X_train , y_train)\n",
    "rms = mean_squared_error(y_valid, reg.predict(X_valid), squared=True)\n",
    "print(rms)\n",
    "r2 = r2_score(y_valid, reg.predict(X_valid))\n",
    "adj_r2 = 1-(1-r2)*(len(X_valid) - 1)/(len(X_valid) - X_valid.shape[1] - 1)\n",
    "print(adj_r2)"
   ],
   "metadata": {
    "collapsed": false,
    "ExecuteTime": {
     "end_time": "2023-09-13T08:13:48.336538Z",
     "start_time": "2023-09-13T08:13:47.848210Z"
    }
   },
   "id": "3c200d45a8a11a6c"
  },
  {
   "cell_type": "markdown",
   "source": [
    "### Without outliers"
   ],
   "metadata": {
    "collapsed": false
   },
   "id": "fce9b62421a50ea5"
  },
  {
   "cell_type": "code",
   "execution_count": 7,
   "outputs": [
    {
     "name": "stdout",
     "output_type": "stream",
     "text": [
      "0.015918447676270243\n",
      "0.903665207748923\n"
     ]
    }
   ],
   "source": [
    "scaler = MinMaxScaler(feature_range=(-1, 1))\n",
    "rescaledX = scaler.fit_transform(df)\n",
    "df_rescaled = pd.DataFrame(rescaledX, columns=df.columns)\n",
    "\n",
    "X = df_rescaled.drop(columns=[\"concrete_compressive_strength\"]).values\n",
    "\n",
    "df_rescaled = df_rescaled.drop(columns=[\"fly_ash\"])\n",
    "\n",
    "# Identify the quartiles\n",
    "q1, q3 = np.percentile(df_rescaled['age'], [25, 75])\n",
    "# Calculate the interquartile range\n",
    "iqr = q3 - q1\n",
    "# Calculate the lower and upper bounds\n",
    "lower_bound = q1 - (1.5 * iqr)\n",
    "upper_bound = q3 + (1.5 * iqr)\n",
    "# Drop the outliers\n",
    "clean_data = df_rescaled[(df_rescaled['age'] >= lower_bound) & (df_rescaled['age'] <= upper_bound)]\n",
    "\n",
    "# Identify the quartile \n",
    "q1, q3 = np.percentile(clean_data['blast_furnace_slag'], [25, 75])\n",
    "# Calculate the interquartile range\n",
    "iqr = q3 - q1\n",
    "# Calculate the lower and upper bounds\n",
    "lower_bound = q1 - (1.5 * iqr)\n",
    "upper_bound = q3 + (1.5 * iqr)\n",
    "# Drop the outliers\n",
    "clean_data = clean_data[(clean_data['blast_furnace_slag'] >= lower_bound) & (clean_data['blast_furnace_slag'] <= upper_bound)]\n",
    "\n",
    "# Identify the quartile  \n",
    "q1, q3 = np.percentile(clean_data['water'], [25, 75])\n",
    "# Calculate the interquartile range\n",
    "iqr = q3 - q1\n",
    "# Calculate the lower and upper bounds\n",
    "lower_bound = q1 - (1.5 * iqr)\n",
    "upper_bound = q3 + (1.5 * iqr)\n",
    "# Drop the outliers\n",
    "clean_data = clean_data[(clean_data['water'] >= lower_bound) & (clean_data['water'] <= upper_bound)]\n",
    "\n",
    "# Identify the quartile  \n",
    "q1, q3 = np.percentile(clean_data['superplasticizer'], [25, 75])\n",
    "# Calculate the interquartile range\n",
    "iqr = q3 - q1\n",
    "# Calculate the lower and upper bounds\n",
    "lower_bound = q1 - (0.75 * iqr)\n",
    "upper_bound = q3 + (0.75 * iqr)\n",
    "# Drop the outliers\n",
    "clean_data = clean_data[(clean_data['superplasticizer'] >= lower_bound) & (clean_data['superplasticizer'] <= upper_bound)]\n",
    "\n",
    "X = clean_data.drop(columns=[\"concrete_compressive_strength\"]).values\n",
    "y = clean_data[\"concrete_compressive_strength\"].values\n",
    "\n",
    "X_train, X_valid, y_train, y_valid = train_test_split(X, y, shuffle=True, random_state=42)\n",
    "reg = RandomForestRegressor(100, random_state=42)\n",
    "reg.fit(X_train , y_train)\n",
    "rms = mean_squared_error(y_valid, reg.predict(X_valid), squared=True)\n",
    "print(rms)\n",
    "r2 = r2_score(y_valid, reg.predict(X_valid))\n",
    "adj_r2 = 1-(1-r2)*(len(X_valid) - 1)/(len(X_valid) - X_valid.shape[1] - 1)\n",
    "print(adj_r2)"
   ],
   "metadata": {
    "collapsed": false,
    "ExecuteTime": {
     "end_time": "2023-09-13T08:14:16.159262Z",
     "start_time": "2023-09-13T08:14:15.686792Z"
    }
   },
   "id": "f7c0ef3819df55f"
  },
  {
   "cell_type": "code",
   "execution_count": null,
   "outputs": [],
   "source": [],
   "metadata": {
    "collapsed": false
   },
   "id": "4364c67db70dfaac"
  }
 ],
 "metadata": {
  "kernelspec": {
   "display_name": "Python 3",
   "language": "python",
   "name": "python3"
  },
  "language_info": {
   "codemirror_mode": {
    "name": "ipython",
    "version": 2
   },
   "file_extension": ".py",
   "mimetype": "text/x-python",
   "name": "python",
   "nbconvert_exporter": "python",
   "pygments_lexer": "ipython2",
   "version": "2.7.6"
  }
 },
 "nbformat": 4,
 "nbformat_minor": 5
}
