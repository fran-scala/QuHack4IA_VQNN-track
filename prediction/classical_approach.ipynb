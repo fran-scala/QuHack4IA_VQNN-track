{
 "cells": [
  {
   "cell_type": "code",
   "execution_count": 12,
   "id": "initial_id",
   "metadata": {
    "collapsed": true,
    "ExecuteTime": {
     "end_time": "2023-09-13T09:26:18.126680Z",
     "start_time": "2023-09-13T09:26:18.117620Z"
    }
   },
   "outputs": [],
   "source": [
    "import pandas as pd\n",
    "import numpy as np\n",
    "\n",
    "from sklearn.model_selection import train_test_split\n",
    "from sklearn.ensemble import RandomForestRegressor\n",
    "\n",
    "from sklearn.metrics import mean_squared_error\n",
    "from sklearn.metrics import r2_score\n",
    "\n",
    "from sklearn.preprocessing import MinMaxScaler"
   ]
  },
  {
   "cell_type": "code",
   "execution_count": 25,
   "outputs": [],
   "source": [
    "df = pd.read_csv('../dataset/concrete_data.csv')"
   ],
   "metadata": {
    "collapsed": false,
    "ExecuteTime": {
     "end_time": "2023-09-13T09:46:51.946489Z",
     "start_time": "2023-09-13T09:46:51.937527Z"
    }
   },
   "id": "379d10c52da733c9"
  },
  {
   "cell_type": "code",
   "execution_count": 26,
   "outputs": [],
   "source": [
    "seed = 1234\n",
    "np.random.seed(seed)"
   ],
   "metadata": {
    "collapsed": false,
    "ExecuteTime": {
     "end_time": "2023-09-13T09:46:52.189235Z",
     "start_time": "2023-09-13T09:46:52.176015Z"
    }
   },
   "id": "a5d9319d40f7a5b6"
  },
  {
   "cell_type": "markdown",
   "source": [
    "## Dataset without features reduction"
   ],
   "metadata": {
    "collapsed": false
   },
   "id": "9b6b23d8c7450f9b"
  },
  {
   "cell_type": "markdown",
   "source": [
    "### With outliers"
   ],
   "metadata": {
    "collapsed": false
   },
   "id": "9f73c61959cc6764"
  },
  {
   "cell_type": "code",
   "execution_count": 27,
   "outputs": [
    {
     "name": "stdout",
     "output_type": "stream",
     "text": [
      "0.014592172783657214\n",
      "0.898240619251174\n"
     ]
    }
   ],
   "source": [
    "scaler = MinMaxScaler(feature_range=(-1, 1))\n",
    "rescaledX = scaler.fit_transform(df)\n",
    "df_rescaled = pd.DataFrame(rescaledX, columns=df.columns)\n",
    "\n",
    "X = df_rescaled.drop(columns=[\"concrete_compressive_strength\"]).values\n",
    "y = df_rescaled[\"concrete_compressive_strength\"].values\n",
    "\n",
    "X_train, X_valid, y_train, y_valid = train_test_split(X, y, shuffle=True, random_state=seed, test_size=0.3)\n",
    "X_test, X_valid, y_test, y_valid = train_test_split(X_valid, y_valid, shuffle=True, random_state=seed, test_size=1/3)\n",
    "\n",
    "reg = RandomForestRegressor(100, random_state=seed)\n",
    "reg.fit(X_train , y_train)\n",
    "rms = mean_squared_error(y_test, reg.predict(X_test), squared=True)\n",
    "print(rms)\n",
    "r2 = r2_score(y_test, reg.predict(X_test))\n",
    "adj_r2 = 1-(1-r2)*(len(X_test) - 1)/(len(X_test) - X_test.shape[1] - 1)\n",
    "print(adj_r2)"
   ],
   "metadata": {
    "collapsed": false,
    "ExecuteTime": {
     "end_time": "2023-09-13T09:46:53.165721Z",
     "start_time": "2023-09-13T09:46:52.671810Z"
    }
   },
   "id": "6dc263ea652d739"
  },
  {
   "cell_type": "markdown",
   "source": [
    "## Dataset with features reduction"
   ],
   "metadata": {
    "collapsed": false
   },
   "id": "fe527cfbcb4033fe"
  },
  {
   "cell_type": "markdown",
   "source": [
    "### With outliers"
   ],
   "metadata": {
    "collapsed": false
   },
   "id": "52de69b44c2e5a47"
  },
  {
   "cell_type": "code",
   "execution_count": 29,
   "outputs": [
    {
     "name": "stdout",
     "output_type": "stream",
     "text": [
      "0.014217871731188965\n",
      "0.9013515831836628\n"
     ]
    }
   ],
   "source": [
    "scaler = MinMaxScaler(feature_range=(-1, 1))\n",
    "rescaledX = scaler.fit_transform(df)\n",
    "df_rescaled = pd.DataFrame(rescaledX, columns=df.columns)\n",
    "\n",
    "X = df_rescaled.drop(columns=[\"concrete_compressive_strength\"]).values\n",
    "\n",
    "df_rescaled = df_rescaled.drop(columns=[\"fly_ash\"])\n",
    "\n",
    "X = df_rescaled.drop(columns=[\"concrete_compressive_strength\"]).values\n",
    "y = df_rescaled[\"concrete_compressive_strength\"].values\n",
    "\n",
    "X_train, X_valid, y_train, y_valid = train_test_split(X, y, shuffle=True, random_state=seed, test_size=0.3)\n",
    "X_test, X_valid, y_test, y_valid = train_test_split(X_valid, y_valid, shuffle=True, random_state=seed, test_size=1/3)\n",
    "\n",
    "reg = RandomForestRegressor(100, random_state=seed)\n",
    "reg.fit(X_train, y_train)\n",
    "rms = mean_squared_error(y_test, reg.predict(X_test), squared=True)\n",
    "print(rms)\n",
    "r2 = r2_score(y_test, reg.predict(X_test))\n",
    "adj_r2 = 1-(1-r2)*(len(X_test) - 1)/(len(X_test) - X_test.shape[1] - 1)\n",
    "print(adj_r2)"
   ],
   "metadata": {
    "collapsed": false,
    "ExecuteTime": {
     "end_time": "2023-09-13T09:46:54.238598Z",
     "start_time": "2023-09-13T09:46:53.758654Z"
    }
   },
   "id": "3c200d45a8a11a6c"
  },
  {
   "cell_type": "markdown",
   "source": [
    "### Without outliers"
   ],
   "metadata": {
    "collapsed": false
   },
   "id": "fce9b62421a50ea5"
  },
  {
   "cell_type": "code",
   "execution_count": 30,
   "outputs": [
    {
     "name": "stdout",
     "output_type": "stream",
     "text": [
      "0.014926592236208975\n",
      "0.8985489219626223\n"
     ]
    }
   ],
   "source": [
    "scaler = MinMaxScaler(feature_range=(-1, 1))\n",
    "rescaledX = scaler.fit_transform(df)\n",
    "df_rescaled = pd.DataFrame(rescaledX, columns=df.columns)\n",
    "\n",
    "X = df_rescaled.drop(columns=[\"concrete_compressive_strength\"]).values\n",
    "\n",
    "df_rescaled = df_rescaled.drop(columns=[\"fly_ash\"])\n",
    "\n",
    "# Identify the quartiles\n",
    "q1, q3 = np.percentile(df_rescaled['age'], [25, 75])\n",
    "# Calculate the interquartile range\n",
    "iqr = q3 - q1\n",
    "# Calculate the lower and upper bounds\n",
    "lower_bound = q1 - (1.5 * iqr)\n",
    "upper_bound = q3 + (1.5 * iqr)\n",
    "# Drop the outliers\n",
    "clean_data = df_rescaled[(df_rescaled['age'] >= lower_bound) & (df_rescaled['age'] <= upper_bound)]\n",
    "\n",
    "# Identify the quartile \n",
    "q1, q3 = np.percentile(clean_data['blast_furnace_slag'], [25, 75])\n",
    "# Calculate the interquartile range\n",
    "iqr = q3 - q1\n",
    "# Calculate the lower and upper bounds\n",
    "lower_bound = q1 - (1.5 * iqr)\n",
    "upper_bound = q3 + (1.5 * iqr)\n",
    "# Drop the outliers\n",
    "clean_data = clean_data[(clean_data['blast_furnace_slag'] >= lower_bound) & (clean_data['blast_furnace_slag'] <= upper_bound)]\n",
    "\n",
    "# Identify the quartile  \n",
    "q1, q3 = np.percentile(clean_data['water'], [25, 75])\n",
    "# Calculate the interquartile range\n",
    "iqr = q3 - q1\n",
    "# Calculate the lower and upper bounds\n",
    "lower_bound = q1 - (1.5 * iqr)\n",
    "upper_bound = q3 + (1.5 * iqr)\n",
    "# Drop the outliers\n",
    "clean_data = clean_data[(clean_data['water'] >= lower_bound) & (clean_data['water'] <= upper_bound)]\n",
    "\n",
    "# Identify the quartile  \n",
    "q1, q3 = np.percentile(clean_data['superplasticizer'], [25, 75])\n",
    "# Calculate the interquartile range\n",
    "iqr = q3 - q1\n",
    "# Calculate the lower and upper bounds\n",
    "lower_bound = q1 - (0.75 * iqr)\n",
    "upper_bound = q3 + (0.75 * iqr)\n",
    "# Drop the outliers\n",
    "clean_data = clean_data[(clean_data['superplasticizer'] >= lower_bound) & (clean_data['superplasticizer'] <= upper_bound)]\n",
    "\n",
    "X = clean_data.drop(columns=[\"concrete_compressive_strength\"]).values\n",
    "y = clean_data[\"concrete_compressive_strength\"].values\n",
    "\n",
    "X_train, X_valid, y_train, y_valid = train_test_split(X, y, shuffle=True, random_state=seed, test_size=0.3)\n",
    "X_test, X_valid, y_test, y_valid = train_test_split(X_valid, y_valid, shuffle=True, random_state=seed, test_size=1/3)\n",
    "\n",
    "reg = RandomForestRegressor(100, random_state=seed)\n",
    "reg.fit(X_train , y_train)\n",
    "rms = mean_squared_error(y_test, reg.predict(X_test), squared=True)\n",
    "print(rms)\n",
    "r2 = r2_score(y_test, reg.predict(X_test))\n",
    "adj_r2 = 1-(1-r2)*(len(X_test) - 1)/(len(X_test) - X_test.shape[1] - 1)\n",
    "print(adj_r2)"
   ],
   "metadata": {
    "collapsed": false,
    "ExecuteTime": {
     "end_time": "2023-09-13T09:46:54.720988Z",
     "start_time": "2023-09-13T09:46:54.247583Z"
    }
   },
   "id": "f7c0ef3819df55f"
  }
 ],
 "metadata": {
  "kernelspec": {
   "display_name": "Python 3",
   "language": "python",
   "name": "python3"
  },
  "language_info": {
   "codemirror_mode": {
    "name": "ipython",
    "version": 2
   },
   "file_extension": ".py",
   "mimetype": "text/x-python",
   "name": "python",
   "nbconvert_exporter": "python",
   "pygments_lexer": "ipython2",
   "version": "2.7.6"
  }
 },
 "nbformat": 4,
 "nbformat_minor": 5
}
